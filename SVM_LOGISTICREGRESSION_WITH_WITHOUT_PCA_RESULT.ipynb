{
 "cells": [
  {
   "cell_type": "code",
   "execution_count": 24,
   "id": "4a960686-a47a-40fc-a6fc-c5fd959d1cf4",
   "metadata": {},
   "outputs": [
    {
     "name": "stderr",
     "output_type": "stream",
     "text": [
      "C:\\Users\\HP\\AppData\\Local\\Temp\\ipykernel_18720\\910533219.py:8: FutureWarning: A value is trying to be set on a copy of a DataFrame or Series through chained assignment using an inplace method.\n",
      "The behavior will change in pandas 3.0. This inplace method will never work because the intermediate object on which we are setting values always behaves as a copy.\n",
      "\n",
      "For example, when doing 'df[col].method(value, inplace=True)', try using 'df.method({col: value}, inplace=True)' or df[col] = df[col].method(value) instead, to perform the operation inplace on the original object.\n",
      "\n",
      "\n",
      "  data['Age'].fillna(data['Age'].median(), inplace=True)\n",
      "C:\\Users\\HP\\AppData\\Local\\Temp\\ipykernel_18720\\910533219.py:9: FutureWarning: A value is trying to be set on a copy of a DataFrame or Series through chained assignment using an inplace method.\n",
      "The behavior will change in pandas 3.0. This inplace method will never work because the intermediate object on which we are setting values always behaves as a copy.\n",
      "\n",
      "For example, when doing 'df[col].method(value, inplace=True)', try using 'df.method({col: value}, inplace=True)' or df[col] = df[col].method(value) instead, to perform the operation inplace on the original object.\n",
      "\n",
      "\n",
      "  data['Embarked'].fillna(data['Embarked'].mode()[0], inplace=True)\n"
     ]
    }
   ],
   "source": [
    "import numpy as np\n",
    "import pandas as pd\n",
    "\n",
    "# Load dataset\n",
    "data = pd.read_csv('C:\\\\Users\\\\HP\\\\Downloads\\\\titanic.csv')\n",
    "\n",
    "# Handle missing values\n",
    "data['Age'].fillna(data['Age'].median(), inplace=True)\n",
    "data['Embarked'].fillna(data['Embarked'].mode()[0], inplace=True)\n",
    "\n",
    "# Encode categorical variables (manually)\n",
    "data['Sex'] = np.where(data['Sex'] == 'male', 1, 0)\n",
    "embarked_mapping = {'C': 0, 'Q': 1, 'S': 2}\n",
    "data['Embarked'] = data['Embarked'].map(embarked_mapping)\n",
    "\n",
    "# Extract features and labels\n",
    "X = data.drop(['Survived', 'Name', 'Ticket', 'Cabin', 'PassengerId'], axis=1).values\n",
    "y = data['Survived'].values\n",
    "\n",
    "# Feature standardization\n",
    "X_mean = np.mean(X, axis=0)\n",
    "X_std = np.std(X, axis=0)\n",
    "X_standardized = (X - X_mean) / X_std\n",
    "\n",
    "# Train-test split (manually)\n",
    "def train_test_split(X, y, test_size=0.2, random_state=42):\n",
    "    np.random.seed(random_state)\n",
    "    indices = np.arange(len(y))\n",
    "    np.random.shuffle(indices)\n",
    "    split = int(len(y) * (1 - test_size))\n",
    "    train_indices, test_indices = indices[:split], indices[split:]\n",
    "    return X[train_indices], X[test_indices], y[train_indices], y[test_indices]\n",
    "\n",
    "X_train, X_test, y_train, y_test = train_test_split(X_standardized, y, test_size=0.2)\n",
    "\n"
   ]
  },
  {
   "cell_type": "code",
   "execution_count": 25,
   "id": "3c9a49f4-9d63-4095-9762-dee48078ee47",
   "metadata": {},
   "outputs": [],
   "source": [
    "# PCA implementation\n",
    "def pca(X, n_components):\n",
    "    X_meaned = X - np.mean(X, axis=0)\n",
    "    covariance_matrix = np.cov(X_meaned, rowvar=False)\n",
    "    eigenvalues, eigenvectors = np.linalg.eigh(covariance_matrix)\n",
    "    sorted_indices = np.argsort(eigenvalues)[::-1]\n",
    "    eigenvectors_subset = eigenvectors[:, sorted_indices[:n_components]]\n",
    "    X_reduced = np.dot(X_meaned, eigenvectors_subset)\n",
    "    return X_reduced\n",
    "\n",
    "X_train_pca = pca(X_train, n_components=2)\n",
    "X_test_pca = pca(X_test, n_components=2)"
   ]
  },
  {
   "cell_type": "code",
   "execution_count": 26,
   "id": "66245e6d-e476-4a3e-9d5e-ca54edfc23a1",
   "metadata": {},
   "outputs": [],
   "source": [
    "# SVM Class\n",
    "class SVM:\n",
    "    def __init__(self, learning_rate=0.001, lambda_param=0.01, n_iters=1000):\n",
    "        self.lr = learning_rate\n",
    "        self.lambda_param = lambda_param\n",
    "        self.n_iters = n_iters\n",
    "        self.w = None\n",
    "        self.b = None\n",
    "\n",
    "    def fit(self, X, y):\n",
    "        n_samples, n_features = X.shape\n",
    "        self.w = np.zeros(n_features)\n",
    "        self.b = 0\n",
    "        y_ = np.where(y <= 0, -1, 1)\n",
    "\n",
    "        for _ in range(self.n_iters):\n",
    "            for idx, x_i in enumerate(X):\n",
    "                condition = y_[idx] * (np.dot(x_i, self.w) - self.b) >= 1\n",
    "                if condition:\n",
    "                    self.w -= self.lr * (2 * self.lambda_param * self.w)\n",
    "                else:\n",
    "                    self.w -= self.lr * (2 * self.lambda_param * self.w - np.dot(x_i, y_[idx]))\n",
    "                    self.b -= self.lr * y_[idx]\n",
    "\n",
    "    def predict(self, X):\n",
    "        linear_output = np.dot(X, self.w) - self.b\n",
    "        return np.sign(linear_output)\n"
   ]
  },
  {
   "cell_type": "code",
   "execution_count": 28,
   "id": "e6613f50-85ef-4459-b3de-7dee9b322a2e",
   "metadata": {},
   "outputs": [],
   "source": [
    "# Logistic Regression Class\n",
    "class LogisticRegression:\n",
    "    def __init__(self, learning_rate=0.01, n_iters=1000):\n",
    "        self.lr = learning_rate\n",
    "        self.n_iters = n_iters\n",
    "        self.w = None\n",
    "        self.b = None\n",
    "\n",
    "    def sigmoid(self, z):\n",
    "        return 1 / (1 + np.exp(-z))\n",
    "\n",
    "    def fit(self, X, y):\n",
    "        n_samples, n_features = X.shape\n",
    "        self.w = np.zeros(n_features)\n",
    "        self.b = 0\n",
    "\n",
    "        for _ in range(self.n_iters):\n",
    "            linear_model = np.dot(X, self.w) + self.b\n",
    "            y_predicted = self.sigmoid(linear_model)\n",
    "            dw = (1 / n_samples) * np.dot(X.T, (y_predicted - y))\n",
    "            db = (1 / n_samples) * np.sum(y_predicted - y)\n",
    "            self.w -= self.lr * dw\n",
    "            self.b -= self.lr * db\n",
    "\n",
    "    def predict(self, X):\n",
    "        linear_model = np.dot(X, self.w) + self.b\n",
    "        y_predicted = self.sigmoid(linear_model)\n",
    "        return [1 if i > 0.5 else 0 for i in y_predicted]\n",
    "\n",
    "# Accuracy function\n",
    "def accuracy(y_true, y_pred):\n",
    "    return np.sum(y_true == y_pred) / len(y_true)"
   ]
  },
  {
   "cell_type": "code",
   "execution_count": 33,
   "id": "96289da7-398d-47d4-b2d3-03c9317457b2",
   "metadata": {},
   "outputs": [],
   "source": [
    "# Function to calculate confusion matrix\n",
    "def confusion_matrix(y_true, y_pred):\n",
    "    tp = np.sum((y_true == 1) & (y_pred == 1))  # True Positives\n",
    "    tn = np.sum((y_true == 0) & (y_pred == 0))  # True Negatives\n",
    "    fp = np.sum((y_true == 0) & (y_pred == 1))  # False Positives\n",
    "    fn = np.sum((y_true == 1) & (y_pred == 0))  # False Negatives\n",
    "    return np.array([[tn, fp], [fn, tp]])\n",
    "\n",
    "# Function to calculate precision, recall, and F1 score\n",
    "def precision_recall_f1(y_true, y_pred):\n",
    "    cm = confusion_matrix(y_true, y_pred)\n",
    "    tn, fp, fn, tp = cm.ravel()\n",
    "    \n",
    "    precision = tp / (tp + fp) if (tp + fp) > 0 else 0\n",
    "    recall = tp / (tp + fn) if (tp + fn) > 0 else 0\n",
    "    f1 = 2 * (precision * recall) / (precision + recall) if (precision + recall) > 0 else 0\n",
    "    \n",
    "    return precision, recall, f1"
   ]
  },
  {
   "cell_type": "code",
   "execution_count": 36,
   "id": "39318082-786e-4622-8c44-51d482f180a1",
   "metadata": {},
   "outputs": [],
   "source": [
    "# Train and evaluate models without PCA\n",
    "svm_model = SVM()\n",
    "svm_model.fit(X_train, y_train)\n",
    "svm_predictions = svm_model.predict(X_test)\n",
    "svm_accuracy_no_pca = accuracy(y_test, svm_predictions)\n",
    "svm_precision_no_pca, svm_recall_no_pca, svm_f1_no_pca = precision_recall_f1(y_test, svm_predictions)\n",
    "\n",
    "logistic_model = LogisticRegression()\n",
    "logistic_model.fit(X_train, y_train)\n",
    "logistic_predictions = logistic_model.predict(X_test)\n",
    "logistic_accuracy_no_pca = accuracy(y_test, logistic_predictions)\n",
    "logistic_precision_no_pca, logistic_recall_no_pca, logistic_f1_no_pca = precision_recall_f1(y_test, logistic_predictions)"
   ]
  },
  {
   "cell_type": "code",
   "execution_count": 37,
   "id": "04d17429-fe3d-448f-ae5c-db92670be445",
   "metadata": {},
   "outputs": [],
   "source": [
    "# Train and evaluate models with PCA\n",
    "svm_model_pca = SVM()\n",
    "svm_model_pca.fit(X_train_pca, y_train)\n",
    "svm_predictions_pca = svm_model_pca.predict(X_test_pca)\n",
    "svm_accuracy_with_pca = accuracy(y_test, svm_predictions_pca)\n",
    "svm_precision_with_pca, svm_recall_with_pca, svm_f1_with_pca = precision_recall_f1(y_test, svm_predictions_pca)\n",
    "\n",
    "logistic_model_pca = LogisticRegression()\n",
    "logistic_model_pca.fit(X_train_pca, y_train)\n",
    "logistic_predictions_pca = logistic_model_pca.predict(X_test_pca)\n",
    "logistic_accuracy_with_pca = accuracy(y_test, logistic_predictions_pca)\n",
    "logistic_precision_with_pca, logistic_recall_with_pca, logistic_f1_with_pca = precision_recall_f1(y_test, logistic_predictions_pca)"
   ]
  },
  {
   "cell_type": "code",
   "execution_count": 38,
   "id": "ec5ca836-3dc7-4ea7-a1d2-9b59d34b1863",
   "metadata": {},
   "outputs": [
    {
     "name": "stdout",
     "output_type": "stream",
     "text": [
      "\n",
      "--- Model Performance Comparison ---\n",
      "SVM Accuracy without PCA: 0.2570, Precision: 0.7541, Recall: 1.0000, F1 Score: 0.8598\n",
      "Logistic Regression Accuracy without PCA: 0.8045, Precision: 0.0000, Recall: 0.0000, F1 Score: 0.0000\n",
      "SVM Accuracy with PCA: 0.0391, Precision: 0.1094, Recall: 1.0000, F1 Score: 0.1972\n",
      "Logistic Regression Accuracy with PCA: 0.3128, Precision: 0.0000, Recall: 0.0000, F1 Score: 0.0000\n"
     ]
    }
   ],
   "source": [
    "# Summary of results\n",
    "print(\"\\n--- Model Performance Comparison ---\")\n",
    "print(f\"SVM Accuracy without PCA: {svm_accuracy_no_pca:.4f}, Precision: {svm_precision_no_pca:.4f}, Recall: {svm_recall_no_pca:.4f}, F1 Score: {svm_f1_no_pca:.4f}\")\n",
    "print(f\"Logistic Regression Accuracy without PCA: {logistic_accuracy_no_pca:.4f}, Precision: {logistic_precision_no_pca:.4f}, Recall: {logistic_recall_no_pca:.4f}, F1 Score: {logistic_f1_no_pca:.4f}\")\n",
    "print(f\"SVM Accuracy with PCA: {svm_accuracy_with_pca:.4f}, Precision: {svm_precision_with_pca:.4f}, Recall: {svm_recall_with_pca:.4f}, F1 Score: {svm_f1_with_pca:.4f}\")\n",
    "print(f\"Logistic Regression Accuracy with PCA: {logistic_accuracy_with_pca:.4f}, Precision: {logistic_precision_with_pca:.4f}, Recall: {logistic_recall_with_pca:.4f}, F1 Score: {logistic_f1_with_pca:.4f}\")"
   ]
  },
  {
   "cell_type": "code",
   "execution_count": null,
   "id": "0e5ee892-0bcf-4717-8c52-9d02fa85fd48",
   "metadata": {},
   "outputs": [],
   "source": []
  }
 ],
 "metadata": {
  "kernelspec": {
   "display_name": "Python 3 (ipykernel)",
   "language": "python",
   "name": "python3"
  },
  "language_info": {
   "codemirror_mode": {
    "name": "ipython",
    "version": 3
   },
   "file_extension": ".py",
   "mimetype": "text/x-python",
   "name": "python",
   "nbconvert_exporter": "python",
   "pygments_lexer": "ipython3",
   "version": "3.13.0"
  }
 },
 "nbformat": 4,
 "nbformat_minor": 5
}
